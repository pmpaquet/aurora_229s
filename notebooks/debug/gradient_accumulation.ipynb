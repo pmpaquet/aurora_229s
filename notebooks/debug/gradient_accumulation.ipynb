{
 "cells": [
  {
   "cell_type": "code",
   "execution_count": 1,
   "metadata": {},
   "outputs": [],
   "source": [
    "import torch\n",
    "import numpy as np"
   ]
  },
  {
   "cell_type": "code",
   "execution_count": 2,
   "metadata": {},
   "outputs": [],
   "source": [
    "model = torch.nn.Sequential(\n",
    "    torch.nn.Linear(2, 2, bias=True),\n",
    "    torch.nn.ReLU(),\n",
    "    torch.nn.Linear(2, 1, bias=False)\n",
    ")"
   ]
  },
  {
   "cell_type": "code",
   "execution_count": 3,
   "metadata": {},
   "outputs": [],
   "source": [
    "features = torch.tensor(np.random.normal(size=(32, 2)), dtype=torch.float)\n",
    "labels = torch.cos(torch.sum(features, dim=-1, keepdim=True))"
   ]
  },
  {
   "cell_type": "markdown",
   "metadata": {},
   "source": [
    "# Try one at a time"
   ]
  },
  {
   "cell_type": "code",
   "execution_count": 4,
   "metadata": {},
   "outputs": [
    {
     "data": {
      "text/plain": [
       "{'0.weight': tensor([[ 0.0018,  0.0008],\n",
       "         [ 0.0815, -0.0533]]),\n",
       " '0.bias': tensor([-0.0008,  0.1022]),\n",
       " '2.weight': tensor([[0.0107, 0.0012]])}"
      ]
     },
     "execution_count": 4,
     "metadata": {},
     "output_type": "execute_result"
    }
   ],
   "source": [
    "model.train()\n",
    "\n",
    "pred = model.forward(features)\n",
    "loss = torch.nn.functional.mse_loss(pred, labels)\n",
    "loss.backward()\n",
    "\n",
    "grads = {}\n",
    "for name,param in model.named_parameters():\n",
    "    grads[name] = param.grad.clone()\n",
    "\n",
    "model.zero_grad()\n",
    "\n",
    "grads"
   ]
  },
  {
   "cell_type": "markdown",
   "metadata": {},
   "source": [
    "# Try multiple times"
   ]
  },
  {
   "cell_type": "code",
   "execution_count": 5,
   "metadata": {},
   "outputs": [
    {
     "data": {
      "text/plain": [
       "{'0.weight': tensor([[ 0.0180,  0.0076],\n",
       "         [ 0.8152, -0.5327]]),\n",
       " '0.bias': tensor([-0.0077,  1.0222]),\n",
       " '2.weight': tensor([[0.1066, 0.0117]])}"
      ]
     },
     "execution_count": 5,
     "metadata": {},
     "output_type": "execute_result"
    }
   ],
   "source": [
    "model.train()\n",
    "\n",
    "for _ in range(10):\n",
    "    pred = model.forward(features)\n",
    "    loss = torch.nn.functional.mse_loss(pred, labels)\n",
    "    loss.backward()\n",
    "\n",
    "grads = {}\n",
    "for name,param in model.named_parameters():\n",
    "    grads[name] = param.grad.clone()\n",
    "\n",
    "model.zero_grad()\n",
    "\n",
    "grads"
   ]
  },
  {
   "cell_type": "markdown",
   "metadata": {},
   "source": [
    "# Approx Fisher"
   ]
  },
  {
   "cell_type": "code",
   "execution_count": 14,
   "metadata": {},
   "outputs": [
    {
     "name": "stdout",
     "output_type": "stream",
     "text": [
      "15.5936\n",
      "0.4873\n",
      "0.4873\n"
     ]
    },
    {
     "data": {
      "text/plain": [
       "{'0.weight': tensor([[1.0152e-07, 1.8115e-08],\n",
       "         [2.0765e-04, 8.8678e-05]]),\n",
       " '0.bias': tensor([1.8462e-08, 3.2651e-04]),\n",
       " '2.weight': tensor([[3.5499e-06, 4.3038e-08]])}"
      ]
     },
     "execution_count": 14,
     "metadata": {},
     "output_type": "execute_result"
    }
   ],
   "source": [
    "model.train()\n",
    "\n",
    "pred = model.forward(features)\n",
    "loss = torch.nn.functional.mse_loss(pred, labels)\n",
    "loss.backward()\n",
    "\n",
    "grads = {}\n",
    "for name,param in model.named_parameters():\n",
    "    grads[name] = torch.square(param.grad.clone()) / 32.0\n",
    "\n",
    "model.zero_grad()\n",
    "\n",
    "print(torch.mean(torch.sum(torch.square(pred.detach() - labels), dim=1)).numpy().round(4) * 32.)\n",
    "print(torch.mean(torch.sum(torch.square(pred.detach() - labels), dim=1)).numpy().round(4))\n",
    "print(loss.detach().numpy().round(4))\n",
    "\n",
    "grads"
   ]
  },
  {
   "cell_type": "code",
   "execution_count": 15,
   "metadata": {},
   "outputs": [
    {
     "ename": "RuntimeError",
     "evalue": "grad can be implicitly created only for scalar outputs",
     "output_type": "error",
     "traceback": [
      "\u001b[0;31m---------------------------------------------------------------------------\u001b[0m",
      "\u001b[0;31mRuntimeError\u001b[0m                              Traceback (most recent call last)",
      "Cell \u001b[0;32mIn[15], line 5\u001b[0m\n\u001b[1;32m      3\u001b[0m pred \u001b[38;5;241m=\u001b[39m model\u001b[38;5;241m.\u001b[39mforward(features)\n\u001b[1;32m      4\u001b[0m loss \u001b[38;5;241m=\u001b[39m torch\u001b[38;5;241m.\u001b[39msquare(pred \u001b[38;5;241m-\u001b[39m labels)\n\u001b[0;32m----> 5\u001b[0m \u001b[43mloss\u001b[49m\u001b[38;5;241;43m.\u001b[39;49m\u001b[43mbackward\u001b[49m\u001b[43m(\u001b[49m\u001b[43m)\u001b[49m\n\u001b[1;32m      7\u001b[0m grads \u001b[38;5;241m=\u001b[39m {}\n\u001b[1;32m      8\u001b[0m \u001b[38;5;28;01mfor\u001b[39;00m name,param \u001b[38;5;129;01min\u001b[39;00m model\u001b[38;5;241m.\u001b[39mnamed_parameters():\n",
      "File \u001b[0;32m~/Projects/Stanford/CS229S/Project/Project_aurora/aurora/.venv/lib/python3.12/site-packages/torch/_tensor.py:581\u001b[0m, in \u001b[0;36mTensor.backward\u001b[0;34m(self, gradient, retain_graph, create_graph, inputs)\u001b[0m\n\u001b[1;32m    571\u001b[0m \u001b[38;5;28;01mif\u001b[39;00m has_torch_function_unary(\u001b[38;5;28mself\u001b[39m):\n\u001b[1;32m    572\u001b[0m     \u001b[38;5;28;01mreturn\u001b[39;00m handle_torch_function(\n\u001b[1;32m    573\u001b[0m         Tensor\u001b[38;5;241m.\u001b[39mbackward,\n\u001b[1;32m    574\u001b[0m         (\u001b[38;5;28mself\u001b[39m,),\n\u001b[0;32m   (...)\u001b[0m\n\u001b[1;32m    579\u001b[0m         inputs\u001b[38;5;241m=\u001b[39minputs,\n\u001b[1;32m    580\u001b[0m     )\n\u001b[0;32m--> 581\u001b[0m \u001b[43mtorch\u001b[49m\u001b[38;5;241;43m.\u001b[39;49m\u001b[43mautograd\u001b[49m\u001b[38;5;241;43m.\u001b[39;49m\u001b[43mbackward\u001b[49m\u001b[43m(\u001b[49m\n\u001b[1;32m    582\u001b[0m \u001b[43m    \u001b[49m\u001b[38;5;28;43mself\u001b[39;49m\u001b[43m,\u001b[49m\u001b[43m \u001b[49m\u001b[43mgradient\u001b[49m\u001b[43m,\u001b[49m\u001b[43m \u001b[49m\u001b[43mretain_graph\u001b[49m\u001b[43m,\u001b[49m\u001b[43m \u001b[49m\u001b[43mcreate_graph\u001b[49m\u001b[43m,\u001b[49m\u001b[43m \u001b[49m\u001b[43minputs\u001b[49m\u001b[38;5;241;43m=\u001b[39;49m\u001b[43minputs\u001b[49m\n\u001b[1;32m    583\u001b[0m \u001b[43m\u001b[49m\u001b[43m)\u001b[49m\n",
      "File \u001b[0;32m~/Projects/Stanford/CS229S/Project/Project_aurora/aurora/.venv/lib/python3.12/site-packages/torch/autograd/__init__.py:340\u001b[0m, in \u001b[0;36mbackward\u001b[0;34m(tensors, grad_tensors, retain_graph, create_graph, grad_variables, inputs)\u001b[0m\n\u001b[1;32m    331\u001b[0m inputs \u001b[38;5;241m=\u001b[39m (\n\u001b[1;32m    332\u001b[0m     (inputs,)\n\u001b[1;32m    333\u001b[0m     \u001b[38;5;28;01mif\u001b[39;00m \u001b[38;5;28misinstance\u001b[39m(inputs, (torch\u001b[38;5;241m.\u001b[39mTensor, graph\u001b[38;5;241m.\u001b[39mGradientEdge))\n\u001b[0;32m   (...)\u001b[0m\n\u001b[1;32m    336\u001b[0m     \u001b[38;5;28;01melse\u001b[39;00m ()\n\u001b[1;32m    337\u001b[0m )\n\u001b[1;32m    339\u001b[0m grad_tensors_ \u001b[38;5;241m=\u001b[39m _tensor_or_tensors_to_tuple(grad_tensors, \u001b[38;5;28mlen\u001b[39m(tensors))\n\u001b[0;32m--> 340\u001b[0m grad_tensors_ \u001b[38;5;241m=\u001b[39m \u001b[43m_make_grads\u001b[49m\u001b[43m(\u001b[49m\u001b[43mtensors\u001b[49m\u001b[43m,\u001b[49m\u001b[43m \u001b[49m\u001b[43mgrad_tensors_\u001b[49m\u001b[43m,\u001b[49m\u001b[43m \u001b[49m\u001b[43mis_grads_batched\u001b[49m\u001b[38;5;241;43m=\u001b[39;49m\u001b[38;5;28;43;01mFalse\u001b[39;49;00m\u001b[43m)\u001b[49m\n\u001b[1;32m    341\u001b[0m \u001b[38;5;28;01mif\u001b[39;00m retain_graph \u001b[38;5;129;01mis\u001b[39;00m \u001b[38;5;28;01mNone\u001b[39;00m:\n\u001b[1;32m    342\u001b[0m     retain_graph \u001b[38;5;241m=\u001b[39m create_graph\n",
      "File \u001b[0;32m~/Projects/Stanford/CS229S/Project/Project_aurora/aurora/.venv/lib/python3.12/site-packages/torch/autograd/__init__.py:198\u001b[0m, in \u001b[0;36m_make_grads\u001b[0;34m(outputs, grads, is_grads_batched)\u001b[0m\n\u001b[1;32m    196\u001b[0m     out_numel_is_1 \u001b[38;5;241m=\u001b[39m out\u001b[38;5;241m.\u001b[39mnumel() \u001b[38;5;241m==\u001b[39m \u001b[38;5;241m1\u001b[39m\n\u001b[1;32m    197\u001b[0m \u001b[38;5;28;01mif\u001b[39;00m \u001b[38;5;129;01mnot\u001b[39;00m out_numel_is_1:\n\u001b[0;32m--> 198\u001b[0m     \u001b[38;5;28;01mraise\u001b[39;00m \u001b[38;5;167;01mRuntimeError\u001b[39;00m(\n\u001b[1;32m    199\u001b[0m         \u001b[38;5;124m\"\u001b[39m\u001b[38;5;124mgrad can be implicitly created only for scalar outputs\u001b[39m\u001b[38;5;124m\"\u001b[39m\n\u001b[1;32m    200\u001b[0m     )\n\u001b[1;32m    201\u001b[0m \u001b[38;5;28;01mif\u001b[39;00m \u001b[38;5;129;01mnot\u001b[39;00m out_dtype\u001b[38;5;241m.\u001b[39mis_floating_point:\n\u001b[1;32m    202\u001b[0m     msg \u001b[38;5;241m=\u001b[39m (\n\u001b[1;32m    203\u001b[0m         \u001b[38;5;124m\"\u001b[39m\u001b[38;5;124mgrad can be implicitly created only for real scalar outputs\u001b[39m\u001b[38;5;124m\"\u001b[39m\n\u001b[1;32m    204\u001b[0m         \u001b[38;5;124mf\u001b[39m\u001b[38;5;124m\"\u001b[39m\u001b[38;5;124m but got \u001b[39m\u001b[38;5;132;01m{\u001b[39;00mout_dtype\u001b[38;5;132;01m}\u001b[39;00m\u001b[38;5;124m\"\u001b[39m\n\u001b[1;32m    205\u001b[0m     )\n",
      "\u001b[0;31mRuntimeError\u001b[0m: grad can be implicitly created only for scalar outputs"
     ]
    }
   ],
   "source": [
    "model.train()\n",
    "\n",
    "pred = model.forward(features)\n",
    "loss = torch.square(pred - labels)\n",
    "loss.backward()\n",
    "\n",
    "grads = {}\n",
    "for name,param in model.named_parameters():\n",
    "    grads[name] = torch.square(param.grad.clone()) / 32.0\n",
    "\n",
    "model.zero_grad()\n",
    "\n",
    "print(loss.detach().numpy().round(4))\n",
    "\n",
    "grads"
   ]
  },
  {
   "cell_type": "code",
   "execution_count": null,
   "metadata": {},
   "outputs": [
    {
     "name": "stdout",
     "output_type": "stream",
     "text": [
      "torch.Size([1, 1]) torch.Size([]) torch.Size([1, 2]) torch.Size([1, 1])\n",
      "0.8264\n"
     ]
    },
    {
     "data": {
      "text/plain": [
       "{'0.weight': tensor([[4.1582e-04, 7.4200e-05],\n",
       "         [8.5054e-01, 3.6322e-01]]),\n",
       " '0.bias': tensor([7.5622e-05, 1.3374e+00]),\n",
       " '2.weight': tensor([[0.0145, 0.0002]])}"
      ]
     },
     "execution_count": 19,
     "metadata": {},
     "output_type": "execute_result"
    }
   ],
   "source": [
    "model.train()\n",
    "\n",
    "for i in range(32):\n",
    "    pred = model.forward(features[[i]])\n",
    "    loss = torch.sum(torch.square(pred - labels[[i]]))\n",
    "    loss.backward()\n",
    "\n",
    "# print(pred.shape, loss.shape, features[[i]].shape, labels[[i]].shape) # WORKS!\n",
    "\n",
    "grads = {}\n",
    "for name,param in model.named_parameters():\n",
    "    grads[name] = torch.square(param.grad.clone()) / 32.0\n",
    "\n",
    "model.zero_grad()\n",
    "\n",
    "print(loss.detach().numpy().round(4))\n",
    "\n",
    "grads"
   ]
  },
  {
   "cell_type": "code",
   "execution_count": null,
   "metadata": {},
   "outputs": [
    {
     "name": "stdout",
     "output_type": "stream",
     "text": [
      "0.8264\n"
     ]
    },
    {
     "data": {
      "text/plain": [
       "{'0.weight': tensor([[3.6525e-03, 8.1083e-04],\n",
       "         [2.2168e+00, 9.9273e-01]]),\n",
       " '0.bias': tensor([1.3677e-03, 3.1243e+00]),\n",
       " '2.weight': tensor([[0.0915, 0.2735]])}"
      ]
     },
     "execution_count": 20,
     "metadata": {},
     "output_type": "execute_result"
    }
   ],
   "source": [
    "# THIS IS THE CORRECT WAY TO DO THIS! NEED TO SQUARE GRADS, THEN SUM\n",
    "\n",
    "model.train()\n",
    "\n",
    "grads = {}\n",
    "\n",
    "for i in range(32):\n",
    "    pred = model.forward(features[[i]])\n",
    "    loss = torch.sum(torch.square(pred - labels[[i]]))\n",
    "    loss.backward()\n",
    "\n",
    "# print(pred.shape, loss.shape, features[[i]].shape, labels[[i]].shape) # WORKS!\n",
    "\n",
    "    for name,param in model.named_parameters():\n",
    "        if i == 0:\n",
    "            grads[name] = torch.square(param.grad.clone()) / 32.0\n",
    "        else:\n",
    "            grads[name] += torch.square(param.grad.clone()) / 32.0\n",
    "\n",
    "model.zero_grad()\n",
    "\n",
    "print(loss.detach().numpy().round(4))\n",
    "\n",
    "grads"
   ]
  }
 ],
 "metadata": {
  "kernelspec": {
   "display_name": ".venv",
   "language": "python",
   "name": "python3"
  },
  "language_info": {
   "codemirror_mode": {
    "name": "ipython",
    "version": 3
   },
   "file_extension": ".py",
   "mimetype": "text/x-python",
   "name": "python",
   "nbconvert_exporter": "python",
   "pygments_lexer": "ipython3",
   "version": "3.12.5"
  }
 },
 "nbformat": 4,
 "nbformat_minor": 2
}
